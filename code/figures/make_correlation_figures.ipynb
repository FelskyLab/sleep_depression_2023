{
 "cells": [
  {
   "cell_type": "code",
   "execution_count": 1,
   "id": "3ca814ea",
   "metadata": {},
   "outputs": [],
   "source": [
    "import pandas as pd\n",
    "import seaborn as sns\n",
    "import numpy as np"
   ]
  },
  {
   "cell_type": "code",
   "execution_count": 2,
   "id": "5d537d44",
   "metadata": {},
   "outputs": [
    {
     "data": {
      "text/html": [
       "<div>\n",
       "<style scoped>\n",
       "    .dataframe tbody tr th:only-of-type {\n",
       "        vertical-align: middle;\n",
       "    }\n",
       "\n",
       "    .dataframe tbody tr th {\n",
       "        vertical-align: top;\n",
       "    }\n",
       "\n",
       "    .dataframe thead th {\n",
       "        text-align: right;\n",
       "    }\n",
       "</style>\n",
       "<table border=\"1\" class=\"dataframe\">\n",
       "  <thead>\n",
       "    <tr style=\"text-align: right;\">\n",
       "      <th></th>\n",
       "      <th>Variable</th>\n",
       "      <th>Region</th>\n",
       "      <th>Decoding accuracy</th>\n",
       "      <th>Coefficient</th>\n",
       "      <th>Coefficient normalized by accuracy</th>\n",
       "      <th>t-value</th>\n",
       "      <th>p-value (raw)</th>\n",
       "      <th>p-value (FDR)</th>\n",
       "      <th>Significant</th>\n",
       "    </tr>\n",
       "  </thead>\n",
       "  <tbody>\n",
       "    <tr>\n",
       "      <th>0</th>\n",
       "      <td>Duration of longest sleep bout</td>\n",
       "      <td>10d</td>\n",
       "      <td>0.790765</td>\n",
       "      <td>0.000977</td>\n",
       "      <td>0.004670</td>\n",
       "      <td>1.837198</td>\n",
       "      <td>0.066204</td>\n",
       "      <td>0.108333</td>\n",
       "      <td>False</td>\n",
       "    </tr>\n",
       "    <tr>\n",
       "      <th>1</th>\n",
       "      <td>Duration of longest sleep bout</td>\n",
       "      <td>10pp</td>\n",
       "      <td>0.763467</td>\n",
       "      <td>0.000500</td>\n",
       "      <td>0.002114</td>\n",
       "      <td>0.896611</td>\n",
       "      <td>0.369943</td>\n",
       "      <td>0.408526</td>\n",
       "      <td>False</td>\n",
       "    </tr>\n",
       "    <tr>\n",
       "      <th>2</th>\n",
       "      <td>Duration of longest sleep bout</td>\n",
       "      <td>10r</td>\n",
       "      <td>0.776091</td>\n",
       "      <td>0.000403</td>\n",
       "      <td>0.001801</td>\n",
       "      <td>0.732161</td>\n",
       "      <td>0.464084</td>\n",
       "      <td>0.494290</td>\n",
       "      <td>False</td>\n",
       "    </tr>\n",
       "    <tr>\n",
       "      <th>3</th>\n",
       "      <td>Duration of longest sleep bout</td>\n",
       "      <td>10v</td>\n",
       "      <td>0.784642</td>\n",
       "      <td>0.001060</td>\n",
       "      <td>0.004922</td>\n",
       "      <td>1.980074</td>\n",
       "      <td>0.047716</td>\n",
       "      <td>0.084195</td>\n",
       "      <td>False</td>\n",
       "    </tr>\n",
       "    <tr>\n",
       "      <th>4</th>\n",
       "      <td>Duration of longest sleep bout</td>\n",
       "      <td>11l</td>\n",
       "      <td>0.772188</td>\n",
       "      <td>0.001473</td>\n",
       "      <td>0.006466</td>\n",
       "      <td>2.651527</td>\n",
       "      <td>0.008023</td>\n",
       "      <td>0.029752</td>\n",
       "      <td>False</td>\n",
       "    </tr>\n",
       "  </tbody>\n",
       "</table>\n",
       "</div>"
      ],
      "text/plain": [
       "                         Variable Region  Decoding accuracy  Coefficient  \\\n",
       "0  Duration of longest sleep bout    10d           0.790765     0.000977   \n",
       "1  Duration of longest sleep bout   10pp           0.763467     0.000500   \n",
       "2  Duration of longest sleep bout    10r           0.776091     0.000403   \n",
       "3  Duration of longest sleep bout    10v           0.784642     0.001060   \n",
       "4  Duration of longest sleep bout    11l           0.772188     0.001473   \n",
       "\n",
       "   Coefficient normalized by accuracy   t-value  p-value (raw)  p-value (FDR)  \\\n",
       "0                            0.004670  1.837198       0.066204       0.108333   \n",
       "1                            0.002114  0.896611       0.369943       0.408526   \n",
       "2                            0.001801  0.732161       0.464084       0.494290   \n",
       "3                            0.004922  1.980074       0.047716       0.084195   \n",
       "4                            0.006466  2.651527       0.008023       0.029752   \n",
       "\n",
       "   Significant  \n",
       "0        False  \n",
       "1        False  \n",
       "2        False  \n",
       "3        False  \n",
       "4        False  "
      ]
     },
     "execution_count": 2,
     "metadata": {},
     "output_type": "execute_result"
    }
   ],
   "source": [
    "assoc_stats_decoding = pd.read_csv('../../data/task/stats/decoding_association_statistics.csv')\n",
    "assoc_stats_decoding.head()"
   ]
  },
  {
   "cell_type": "code",
   "execution_count": 3,
   "id": "d677b1f3",
   "metadata": {},
   "outputs": [],
   "source": [
    "assoc_stats_decoding = assoc_stats_decoding.pivot(index='Region', columns='Variable', values='Coefficient')"
   ]
  },
  {
   "cell_type": "code",
   "execution_count": 4,
   "id": "ca53590c",
   "metadata": {},
   "outputs": [
    {
     "data": {
      "text/plain": [
       "<AxesSubplot:xlabel='Variable', ylabel='Variable'>"
      ]
     },
     "execution_count": 4,
     "metadata": {},
     "output_type": "execute_result"
    },
    {
     "data": {
      "image/png": "[encoded data removed]",
      "text/plain": [
       "<Figure size 432x288 with 2 Axes>"
      ]
     },
     "metadata": {
      "needs_background": "light"
     },
     "output_type": "display_data"
    }
   ],
   "source": [
    "assoc_stats_decoding_corr = assoc_stats_decoding[['Duration of longest sleep bout', 'PHQ-2', 'Cognition', \n",
    "       'Self-report insomnia', 'Self-report daytime dozing']].corr()\n",
    "assoc_stats_decoding_corr.values[np.triu_indices(5,1)] = np.nan\n",
    "sns.heatmap(assoc_stats_decoding_corr, \n",
    "            annot=True, cmap='coolwarm', center=0.0, vmin=-.6, vmax=.6)"
   ]
  },
  {
   "cell_type": "code",
   "execution_count": 5,
   "id": "4d108df3",
   "metadata": {},
   "outputs": [
    {
     "data": {
      "text/html": [
       "<div>\n",
       "<style scoped>\n",
       "    .dataframe tbody tr th:only-of-type {\n",
       "        vertical-align: middle;\n",
       "    }\n",
       "\n",
       "    .dataframe tbody tr th {\n",
       "        vertical-align: top;\n",
       "    }\n",
       "\n",
       "    .dataframe thead th {\n",
       "        text-align: right;\n",
       "    }\n",
       "</style>\n",
       "<table border=\"1\" class=\"dataframe\">\n",
       "  <thead>\n",
       "    <tr style=\"text-align: right;\">\n",
       "      <th></th>\n",
       "      <th>Variable</th>\n",
       "      <th>Node 1</th>\n",
       "      <th>Node 2</th>\n",
       "      <th>Coefficient</th>\n",
       "      <th>t-value</th>\n",
       "      <th>p-value (raw)</th>\n",
       "      <th>p-value (Bonferroni)</th>\n",
       "      <th>Significant</th>\n",
       "      <th>Connectivity Nodes</th>\n",
       "    </tr>\n",
       "  </thead>\n",
       "  <tbody>\n",
       "    <tr>\n",
       "      <th>0</th>\n",
       "      <td>Duration of longest sleep bout</td>\n",
       "      <td>0</td>\n",
       "      <td>1</td>\n",
       "      <td>-0.006724</td>\n",
       "      <td>-0.510669</td>\n",
       "      <td>0.609592</td>\n",
       "      <td>64.007151</td>\n",
       "      <td>False</td>\n",
       "      <td>0_1</td>\n",
       "    </tr>\n",
       "    <tr>\n",
       "      <th>1</th>\n",
       "      <td>Duration of longest sleep bout</td>\n",
       "      <td>0</td>\n",
       "      <td>2</td>\n",
       "      <td>0.002969</td>\n",
       "      <td>0.238460</td>\n",
       "      <td>0.811529</td>\n",
       "      <td>85.210495</td>\n",
       "      <td>False</td>\n",
       "      <td>0_2</td>\n",
       "    </tr>\n",
       "    <tr>\n",
       "      <th>2</th>\n",
       "      <td>Duration of longest sleep bout</td>\n",
       "      <td>0</td>\n",
       "      <td>3</td>\n",
       "      <td>0.006316</td>\n",
       "      <td>0.504241</td>\n",
       "      <td>0.614101</td>\n",
       "      <td>64.480558</td>\n",
       "      <td>False</td>\n",
       "      <td>0_3</td>\n",
       "    </tr>\n",
       "    <tr>\n",
       "      <th>3</th>\n",
       "      <td>Duration of longest sleep bout</td>\n",
       "      <td>0</td>\n",
       "      <td>4</td>\n",
       "      <td>-0.007948</td>\n",
       "      <td>-0.610794</td>\n",
       "      <td>0.541347</td>\n",
       "      <td>56.841420</td>\n",
       "      <td>False</td>\n",
       "      <td>0_4</td>\n",
       "    </tr>\n",
       "    <tr>\n",
       "      <th>4</th>\n",
       "      <td>Duration of longest sleep bout</td>\n",
       "      <td>0</td>\n",
       "      <td>5</td>\n",
       "      <td>0.038391</td>\n",
       "      <td>1.999093</td>\n",
       "      <td>0.045620</td>\n",
       "      <td>4.790067</td>\n",
       "      <td>False</td>\n",
       "      <td>0_5</td>\n",
       "    </tr>\n",
       "  </tbody>\n",
       "</table>\n",
       "</div>"
      ],
      "text/plain": [
       "                         Variable  Node 1  Node 2  Coefficient   t-value  \\\n",
       "0  Duration of longest sleep bout       0       1    -0.006724 -0.510669   \n",
       "1  Duration of longest sleep bout       0       2     0.002969  0.238460   \n",
       "2  Duration of longest sleep bout       0       3     0.006316  0.504241   \n",
       "3  Duration of longest sleep bout       0       4    -0.007948 -0.610794   \n",
       "4  Duration of longest sleep bout       0       5     0.038391  1.999093   \n",
       "\n",
       "   p-value (raw)  p-value (Bonferroni)  Significant Connectivity Nodes  \n",
       "0       0.609592             64.007151        False                0_1  \n",
       "1       0.811529             85.210495        False                0_2  \n",
       "2       0.614101             64.480558        False                0_3  \n",
       "3       0.541347             56.841420        False                0_4  \n",
       "4       0.045620              4.790067        False                0_5  "
      ]
     },
     "execution_count": 5,
     "metadata": {},
     "output_type": "execute_result"
    }
   ],
   "source": [
    "assoc_stats_fc = pd.read_csv('../../data/resting/stats/functional_connectivity_association_statistics.csv')\n",
    "assoc_stats_fc['Connectivity Nodes'] = assoc_stats_fc[['Node 1', 'Node 2']].astype(str).agg('_'.join, axis=1)\n",
    "assoc_stats_fc.head()"
   ]
  },
  {
   "cell_type": "code",
   "execution_count": 6,
   "id": "c1e691c4",
   "metadata": {},
   "outputs": [],
   "source": [
    "assoc_stats_fc = assoc_stats_fc.pivot(index='Connectivity Nodes', columns='Variable', values='Coefficient')"
   ]
  },
  {
   "cell_type": "code",
   "execution_count": 7,
   "id": "bb9b43be",
   "metadata": {},
   "outputs": [
    {
     "data": {
      "text/plain": [
       "<AxesSubplot:xlabel='Variable', ylabel='Variable'>"
      ]
     },
     "execution_count": 7,
     "metadata": {},
     "output_type": "execute_result"
    },
    {
     "data": {
      "image/png": "[encoded data removed]",
      "text/plain": [
       "<Figure size 432x288 with 2 Axes>"
      ]
     },
     "metadata": {
      "needs_background": "light"
     },
     "output_type": "display_data"
    }
   ],
   "source": [
    "assoc_stats_fc_corr = assoc_stats_fc[['Duration of longest sleep bout', 'PHQ-2', 'Cognition', \n",
    "       'Self-report insomnia', 'Self-report daytime dozing']].corr()\n",
    "assoc_stats_fc_corr.values[np.triu_indices(5,1)] = np.nan\n",
    "sns.heatmap(assoc_stats_fc_corr, \n",
    "            annot=True, cmap='coolwarm', center=0.0, vmin=-.6, vmax=.6)"
   ]
  },
  {
   "cell_type": "code",
   "execution_count": null,
   "id": "09f4133a",
   "metadata": {},
   "outputs": [],
   "source": []
  }
 ],
 "metadata": {
  "kernelspec": {
   "display_name": "Python 3",
   "language": "python",
   "name": "python3"
  },
  "language_info": {
   "codemirror_mode": {
    "name": "ipython",
    "version": 3
   },
   "file_extension": ".py",
   "mimetype": "text/x-python",
   "name": "python",
   "nbconvert_exporter": "python",
   "pygments_lexer": "ipython3",
   "version": "3.6.8"
  }
 },
 "nbformat": 4,
 "nbformat_minor": 5
}
